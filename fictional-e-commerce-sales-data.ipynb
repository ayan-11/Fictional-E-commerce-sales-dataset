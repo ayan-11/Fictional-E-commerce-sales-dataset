{
 "cells": [
  {
   "cell_type": "code",
   "execution_count": 1,
   "id": "5e405e2c",
   "metadata": {
    "_cell_guid": "b1076dfc-b9ad-4769-8c92-a6c4dae69d19",
    "_uuid": "8f2839f25d086af736a60e9eeb907d3b93b6e0e5",
    "execution": {
     "iopub.execute_input": "2024-02-12T17:37:45.524217Z",
     "iopub.status.busy": "2024-02-12T17:37:45.523534Z",
     "iopub.status.idle": "2024-02-12T17:37:46.510215Z",
     "shell.execute_reply": "2024-02-12T17:37:46.509290Z"
    },
    "papermill": {
     "duration": 0.997065,
     "end_time": "2024-02-12T17:37:46.512945",
     "exception": false,
     "start_time": "2024-02-12T17:37:45.515880",
     "status": "completed"
    },
    "tags": []
   },
   "outputs": [
    {
     "name": "stdout",
     "output_type": "stream",
     "text": [
      "/kaggle/input/fictional-e-commerce-sales-data/larger_sales_dataset.csv\n"
     ]
    }
   ],
   "source": [
    "# This Python 3 environment comes with many helpful analytics libraries installed\n",
    "# It is defined by the kaggle/python Docker image: https://github.com/kaggle/docker-python\n",
    "# For example, here's several helpful packages to load\n",
    "\n",
    "import numpy as np # linear algebra\n",
    "import pandas as pd # data processing, CSV file I/O (e.g. pd.read_csv)\n",
    "\n",
    "# Input data files are available in the read-only \"../input/\" directory\n",
    "# For example, running this (by clicking run or pressing Shift+Enter) will list all files under the input directory\n",
    "\n",
    "import os\n",
    "for dirname, _, filenames in os.walk('/kaggle/input'):\n",
    "    for filename in filenames:\n",
    "        print(os.path.join(dirname, filename))\n",
    "\n",
    "# You can write up to 20GB to the current directory (/kaggle/working/) that gets preserved as output when you create a version using \"Save & Run All\" \n",
    "# You can also write temporary files to /kaggle/temp/, but they won't be saved outside of the current session"
   ]
  },
  {
   "cell_type": "code",
   "execution_count": 2,
   "id": "ebe33edd",
   "metadata": {
    "execution": {
     "iopub.execute_input": "2024-02-12T17:37:46.528081Z",
     "iopub.status.busy": "2024-02-12T17:37:46.527565Z",
     "iopub.status.idle": "2024-02-12T17:37:46.661260Z",
     "shell.execute_reply": "2024-02-12T17:37:46.660053Z"
    },
    "papermill": {
     "duration": 0.143744,
     "end_time": "2024-02-12T17:37:46.663928",
     "exception": false,
     "start_time": "2024-02-12T17:37:46.520184",
     "status": "completed"
    },
    "tags": []
   },
   "outputs": [],
   "source": [
    "df=pd.read_csv('/kaggle/input/fictional-e-commerce-sales-data/larger_sales_dataset.csv')"
   ]
  },
  {
   "cell_type": "code",
   "execution_count": 3,
   "id": "3555fba3",
   "metadata": {
    "execution": {
     "iopub.execute_input": "2024-02-12T17:37:46.676797Z",
     "iopub.status.busy": "2024-02-12T17:37:46.676376Z",
     "iopub.status.idle": "2024-02-12T17:37:46.700158Z",
     "shell.execute_reply": "2024-02-12T17:37:46.699064Z"
    },
    "papermill": {
     "duration": 0.033213,
     "end_time": "2024-02-12T17:37:46.702693",
     "exception": false,
     "start_time": "2024-02-12T17:37:46.669480",
     "status": "completed"
    },
    "tags": []
   },
   "outputs": [
    {
     "data": {
      "text/html": [
       "<div>\n",
       "<style scoped>\n",
       "    .dataframe tbody tr th:only-of-type {\n",
       "        vertical-align: middle;\n",
       "    }\n",
       "\n",
       "    .dataframe tbody tr th {\n",
       "        vertical-align: top;\n",
       "    }\n",
       "\n",
       "    .dataframe thead th {\n",
       "        text-align: right;\n",
       "    }\n",
       "</style>\n",
       "<table border=\"1\" class=\"dataframe\">\n",
       "  <thead>\n",
       "    <tr style=\"text-align: right;\">\n",
       "      <th></th>\n",
       "      <th>Order ID</th>\n",
       "      <th>Product ID</th>\n",
       "      <th>Product Category</th>\n",
       "      <th>Quantity</th>\n",
       "      <th>Unit Price</th>\n",
       "      <th>Total Price</th>\n",
       "      <th>Order Date</th>\n",
       "      <th>Customer ID</th>\n",
       "      <th>Payment Type</th>\n",
       "      <th>Order Status</th>\n",
       "    </tr>\n",
       "  </thead>\n",
       "  <tbody>\n",
       "    <tr>\n",
       "      <th>0</th>\n",
       "      <td>873ff350-854d-4bd8-aebf-6cc5e1a6d3b7</td>\n",
       "      <td>26ab320e-62f2-4203-be68-f8740085d796</td>\n",
       "      <td>Sports &amp; Outdoors</td>\n",
       "      <td>4</td>\n",
       "      <td>154.050509</td>\n",
       "      <td>616.202036</td>\n",
       "      <td>2023-08-02</td>\n",
       "      <td>292fe8cf-4d60-437b-8488-4c225e84d48d</td>\n",
       "      <td>Credit Card</td>\n",
       "      <td>Completed</td>\n",
       "    </tr>\n",
       "    <tr>\n",
       "      <th>1</th>\n",
       "      <td>7cb2641e-ea6b-4faf-a7ab-24992d5573fa</td>\n",
       "      <td>8c0d7ba9-1e6b-412a-8359-97d964ad19e5</td>\n",
       "      <td>Home &amp; Kitchen</td>\n",
       "      <td>5</td>\n",
       "      <td>275.539908</td>\n",
       "      <td>1377.699538</td>\n",
       "      <td>2023-09-03</td>\n",
       "      <td>a026178d-e3ed-4d45-a49c-8336479b2114</td>\n",
       "      <td>PayPal</td>\n",
       "      <td>Refunded</td>\n",
       "    </tr>\n",
       "    <tr>\n",
       "      <th>2</th>\n",
       "      <td>94e0de8a-419d-46e1-9e7c-65c730b89c65</td>\n",
       "      <td>5d65b6c7-1894-4207-b7e3-b53cc2d5e5e3</td>\n",
       "      <td>Beauty &amp; Health</td>\n",
       "      <td>3</td>\n",
       "      <td>56.410098</td>\n",
       "      <td>169.230294</td>\n",
       "      <td>2023-12-06</td>\n",
       "      <td>808e8010-1552-42dd-a9c5-eacd4fde3283</td>\n",
       "      <td>Debit Card</td>\n",
       "      <td>Cancelled</td>\n",
       "    </tr>\n",
       "    <tr>\n",
       "      <th>3</th>\n",
       "      <td>88cc8ccf-f018-46ac-ba3b-f36b5cf4e429</td>\n",
       "      <td>b3f6c6a5-d3cb-49a4-b53b-3996be815c28</td>\n",
       "      <td>Books</td>\n",
       "      <td>2</td>\n",
       "      <td>176.410906</td>\n",
       "      <td>352.821812</td>\n",
       "      <td>2023-07-22</td>\n",
       "      <td>6184896b-4fb2-4ae0-9851-65033dae1319</td>\n",
       "      <td>PayPal</td>\n",
       "      <td>Pending</td>\n",
       "    </tr>\n",
       "    <tr>\n",
       "      <th>4</th>\n",
       "      <td>eb520575-720e-456e-9dc5-c2c3bb887bfc</td>\n",
       "      <td>fed52dbf-49c6-4128-8b18-c36e50184a04</td>\n",
       "      <td>Electronics</td>\n",
       "      <td>3</td>\n",
       "      <td>409.892144</td>\n",
       "      <td>1229.676431</td>\n",
       "      <td>2023-04-08</td>\n",
       "      <td>24689017-68fc-42ba-8ae6-f0ad7155e0d6</td>\n",
       "      <td>Credit Card</td>\n",
       "      <td>Cancelled</td>\n",
       "    </tr>\n",
       "  </tbody>\n",
       "</table>\n",
       "</div>"
      ],
      "text/plain": [
       "                               Order ID                            Product ID  \\\n",
       "0  873ff350-854d-4bd8-aebf-6cc5e1a6d3b7  26ab320e-62f2-4203-be68-f8740085d796   \n",
       "1  7cb2641e-ea6b-4faf-a7ab-24992d5573fa  8c0d7ba9-1e6b-412a-8359-97d964ad19e5   \n",
       "2  94e0de8a-419d-46e1-9e7c-65c730b89c65  5d65b6c7-1894-4207-b7e3-b53cc2d5e5e3   \n",
       "3  88cc8ccf-f018-46ac-ba3b-f36b5cf4e429  b3f6c6a5-d3cb-49a4-b53b-3996be815c28   \n",
       "4  eb520575-720e-456e-9dc5-c2c3bb887bfc  fed52dbf-49c6-4128-8b18-c36e50184a04   \n",
       "\n",
       "    Product Category  Quantity  Unit Price  Total Price  Order Date  \\\n",
       "0  Sports & Outdoors         4  154.050509   616.202036  2023-08-02   \n",
       "1     Home & Kitchen         5  275.539908  1377.699538  2023-09-03   \n",
       "2    Beauty & Health         3   56.410098   169.230294  2023-12-06   \n",
       "3              Books         2  176.410906   352.821812  2023-07-22   \n",
       "4        Electronics         3  409.892144  1229.676431  2023-04-08   \n",
       "\n",
       "                            Customer ID Payment Type Order Status  \n",
       "0  292fe8cf-4d60-437b-8488-4c225e84d48d  Credit Card    Completed  \n",
       "1  a026178d-e3ed-4d45-a49c-8336479b2114       PayPal     Refunded  \n",
       "2  808e8010-1552-42dd-a9c5-eacd4fde3283   Debit Card    Cancelled  \n",
       "3  6184896b-4fb2-4ae0-9851-65033dae1319       PayPal      Pending  \n",
       "4  24689017-68fc-42ba-8ae6-f0ad7155e0d6  Credit Card    Cancelled  "
      ]
     },
     "execution_count": 3,
     "metadata": {},
     "output_type": "execute_result"
    }
   ],
   "source": [
    "df.head()"
   ]
  },
  {
   "cell_type": "code",
   "execution_count": 4,
   "id": "6535326a",
   "metadata": {
    "execution": {
     "iopub.execute_input": "2024-02-12T17:37:46.716670Z",
     "iopub.status.busy": "2024-02-12T17:37:46.716287Z",
     "iopub.status.idle": "2024-02-12T17:37:46.735924Z",
     "shell.execute_reply": "2024-02-12T17:37:46.734780Z"
    },
    "papermill": {
     "duration": 0.029645,
     "end_time": "2024-02-12T17:37:46.738454",
     "exception": false,
     "start_time": "2024-02-12T17:37:46.708809",
     "status": "completed"
    },
    "tags": []
   },
   "outputs": [
    {
     "data": {
      "text/plain": [
       "Order ID            0\n",
       "Product ID          0\n",
       "Product Category    0\n",
       "Quantity            0\n",
       "Unit Price          0\n",
       "Total Price         0\n",
       "Order Date          0\n",
       "Customer ID         0\n",
       "Payment Type        0\n",
       "Order Status        0\n",
       "dtype: int64"
      ]
     },
     "execution_count": 4,
     "metadata": {},
     "output_type": "execute_result"
    }
   ],
   "source": [
    "df.isnull().sum()"
   ]
  },
  {
   "cell_type": "code",
   "execution_count": 5,
   "id": "bde3efc3",
   "metadata": {
    "execution": {
     "iopub.execute_input": "2024-02-12T17:37:46.752275Z",
     "iopub.status.busy": "2024-02-12T17:37:46.751874Z",
     "iopub.status.idle": "2024-02-12T17:37:46.790302Z",
     "shell.execute_reply": "2024-02-12T17:37:46.789171Z"
    },
    "papermill": {
     "duration": 0.048407,
     "end_time": "2024-02-12T17:37:46.792945",
     "exception": false,
     "start_time": "2024-02-12T17:37:46.744538",
     "status": "completed"
    },
    "tags": []
   },
   "outputs": [
    {
     "name": "stdout",
     "output_type": "stream",
     "text": [
      "<class 'pandas.core.frame.DataFrame'>\n",
      "RangeIndex: 10000 entries, 0 to 9999\n",
      "Data columns (total 10 columns):\n",
      " #   Column            Non-Null Count  Dtype  \n",
      "---  ------            --------------  -----  \n",
      " 0   Order ID          10000 non-null  object \n",
      " 1   Product ID        10000 non-null  object \n",
      " 2   Product Category  10000 non-null  object \n",
      " 3   Quantity          10000 non-null  int64  \n",
      " 4   Unit Price        10000 non-null  float64\n",
      " 5   Total Price       10000 non-null  float64\n",
      " 6   Order Date        10000 non-null  object \n",
      " 7   Customer ID       10000 non-null  object \n",
      " 8   Payment Type      10000 non-null  object \n",
      " 9   Order Status      10000 non-null  object \n",
      "dtypes: float64(2), int64(1), object(7)\n",
      "memory usage: 781.4+ KB\n"
     ]
    }
   ],
   "source": [
    "df.info()"
   ]
  },
  {
   "cell_type": "code",
   "execution_count": 6,
   "id": "c8bac4ef",
   "metadata": {
    "execution": {
     "iopub.execute_input": "2024-02-12T17:37:46.807290Z",
     "iopub.status.busy": "2024-02-12T17:37:46.806650Z",
     "iopub.status.idle": "2024-02-12T17:37:46.848302Z",
     "shell.execute_reply": "2024-02-12T17:37:46.847157Z"
    },
    "papermill": {
     "duration": 0.052045,
     "end_time": "2024-02-12T17:37:46.851184",
     "exception": false,
     "start_time": "2024-02-12T17:37:46.799139",
     "status": "completed"
    },
    "tags": []
   },
   "outputs": [],
   "source": [
    "df['Order Month']=df['Order Date'].str.split('-').str[1]\n",
    "df['Order Date']=df['Order Date'].str.split('-').str[2]"
   ]
  },
  {
   "cell_type": "code",
   "execution_count": 7,
   "id": "8e0eb186",
   "metadata": {
    "execution": {
     "iopub.execute_input": "2024-02-12T17:37:46.865550Z",
     "iopub.status.busy": "2024-02-12T17:37:46.865186Z",
     "iopub.status.idle": "2024-02-12T17:37:46.874824Z",
     "shell.execute_reply": "2024-02-12T17:37:46.873622Z"
    },
    "papermill": {
     "duration": 0.019738,
     "end_time": "2024-02-12T17:37:46.877302",
     "exception": false,
     "start_time": "2024-02-12T17:37:46.857564",
     "status": "completed"
    },
    "tags": []
   },
   "outputs": [],
   "source": [
    "df['Order Date']=df['Order Date'].astype(int)\n",
    "df['Order Month']=df['Order Month'].astype(int)"
   ]
  },
  {
   "cell_type": "code",
   "execution_count": 8,
   "id": "2cad8f53",
   "metadata": {
    "execution": {
     "iopub.execute_input": "2024-02-12T17:37:46.891550Z",
     "iopub.status.busy": "2024-02-12T17:37:46.891178Z",
     "iopub.status.idle": "2024-02-12T17:37:46.899973Z",
     "shell.execute_reply": "2024-02-12T17:37:46.898682Z"
    },
    "papermill": {
     "duration": 0.018801,
     "end_time": "2024-02-12T17:37:46.902382",
     "exception": false,
     "start_time": "2024-02-12T17:37:46.883581",
     "status": "completed"
    },
    "tags": []
   },
   "outputs": [
    {
     "data": {
      "text/plain": [
       "array(['Credit Card', 'PayPal', 'Debit Card', 'Gift Card'], dtype=object)"
      ]
     },
     "execution_count": 8,
     "metadata": {},
     "output_type": "execute_result"
    }
   ],
   "source": [
    "df['Payment Type'].unique()"
   ]
  },
  {
   "cell_type": "code",
   "execution_count": 9,
   "id": "8768ab5c",
   "metadata": {
    "execution": {
     "iopub.execute_input": "2024-02-12T17:37:46.916818Z",
     "iopub.status.busy": "2024-02-12T17:37:46.916379Z",
     "iopub.status.idle": "2024-02-12T17:37:46.925024Z",
     "shell.execute_reply": "2024-02-12T17:37:46.923736Z"
    },
    "papermill": {
     "duration": 0.018813,
     "end_time": "2024-02-12T17:37:46.927529",
     "exception": false,
     "start_time": "2024-02-12T17:37:46.908716",
     "status": "completed"
    },
    "tags": []
   },
   "outputs": [
    {
     "data": {
      "text/plain": [
       "array(['Completed', 'Refunded', 'Cancelled', 'Pending'], dtype=object)"
      ]
     },
     "execution_count": 9,
     "metadata": {},
     "output_type": "execute_result"
    }
   ],
   "source": [
    "df['Order Status'].unique()"
   ]
  },
  {
   "cell_type": "code",
   "execution_count": 10,
   "id": "fb8395c0",
   "metadata": {
    "execution": {
     "iopub.execute_input": "2024-02-12T17:37:46.942842Z",
     "iopub.status.busy": "2024-02-12T17:37:46.942422Z",
     "iopub.status.idle": "2024-02-12T17:37:46.950953Z",
     "shell.execute_reply": "2024-02-12T17:37:46.949823Z"
    },
    "papermill": {
     "duration": 0.018825,
     "end_time": "2024-02-12T17:37:46.953357",
     "exception": false,
     "start_time": "2024-02-12T17:37:46.934532",
     "status": "completed"
    },
    "tags": []
   },
   "outputs": [
    {
     "data": {
      "text/plain": [
       "array(['Sports & Outdoors', 'Home & Kitchen', 'Beauty & Health', 'Books',\n",
       "       'Electronics', 'Clothing'], dtype=object)"
      ]
     },
     "execution_count": 10,
     "metadata": {},
     "output_type": "execute_result"
    }
   ],
   "source": [
    "df['Product Category'].unique()"
   ]
  },
  {
   "cell_type": "code",
   "execution_count": 11,
   "id": "ba0c4531",
   "metadata": {
    "execution": {
     "iopub.execute_input": "2024-02-12T17:37:46.968865Z",
     "iopub.status.busy": "2024-02-12T17:37:46.968105Z",
     "iopub.status.idle": "2024-02-12T17:37:46.982819Z",
     "shell.execute_reply": "2024-02-12T17:37:46.981632Z"
    },
    "papermill": {
     "duration": 0.025174,
     "end_time": "2024-02-12T17:37:46.985176",
     "exception": false,
     "start_time": "2024-02-12T17:37:46.960002",
     "status": "completed"
    },
    "tags": []
   },
   "outputs": [],
   "source": [
    "df['Payment Type']=df['Payment Type'].map({'Credit Card':1, 'PayPal':2, 'Debit Card':3, 'Gift Card':4})\n",
    "df['Order Status']=df['Order Status'].map({'Completed':1, 'Refunded':2, 'Cancelled':3, 'Pending':4})\n",
    "df['Product Category']=df['Product Category'].map({'Sports & Outdoors':1, 'Home & Kitchen':2, 'Beauty & Health':3, 'Books':4,'Electronics':5, 'Clothing':6})"
   ]
  },
  {
   "cell_type": "code",
   "execution_count": 12,
   "id": "24d77ef7",
   "metadata": {
    "execution": {
     "iopub.execute_input": "2024-02-12T17:37:47.000498Z",
     "iopub.status.busy": "2024-02-12T17:37:47.000087Z",
     "iopub.status.idle": "2024-02-12T17:37:47.016967Z",
     "shell.execute_reply": "2024-02-12T17:37:47.015496Z"
    },
    "papermill": {
     "duration": 0.027452,
     "end_time": "2024-02-12T17:37:47.019554",
     "exception": false,
     "start_time": "2024-02-12T17:37:46.992102",
     "status": "completed"
    },
    "tags": []
   },
   "outputs": [
    {
     "name": "stdout",
     "output_type": "stream",
     "text": [
      "<class 'pandas.core.frame.DataFrame'>\n",
      "RangeIndex: 10000 entries, 0 to 9999\n",
      "Data columns (total 11 columns):\n",
      " #   Column            Non-Null Count  Dtype  \n",
      "---  ------            --------------  -----  \n",
      " 0   Order ID          10000 non-null  object \n",
      " 1   Product ID        10000 non-null  object \n",
      " 2   Product Category  10000 non-null  int64  \n",
      " 3   Quantity          10000 non-null  int64  \n",
      " 4   Unit Price        10000 non-null  float64\n",
      " 5   Total Price       10000 non-null  float64\n",
      " 6   Order Date        10000 non-null  int64  \n",
      " 7   Customer ID       10000 non-null  object \n",
      " 8   Payment Type      10000 non-null  int64  \n",
      " 9   Order Status      10000 non-null  int64  \n",
      " 10  Order Month       10000 non-null  int64  \n",
      "dtypes: float64(2), int64(6), object(3)\n",
      "memory usage: 859.5+ KB\n"
     ]
    }
   ],
   "source": [
    "df.info()"
   ]
  },
  {
   "cell_type": "code",
   "execution_count": 13,
   "id": "c8bcd583",
   "metadata": {
    "execution": {
     "iopub.execute_input": "2024-02-12T17:37:47.035224Z",
     "iopub.status.busy": "2024-02-12T17:37:47.034450Z",
     "iopub.status.idle": "2024-02-12T17:37:47.050261Z",
     "shell.execute_reply": "2024-02-12T17:37:47.049356Z"
    },
    "papermill": {
     "duration": 0.026211,
     "end_time": "2024-02-12T17:37:47.052569",
     "exception": false,
     "start_time": "2024-02-12T17:37:47.026358",
     "status": "completed"
    },
    "tags": []
   },
   "outputs": [
    {
     "data": {
      "text/html": [
       "<div>\n",
       "<style scoped>\n",
       "    .dataframe tbody tr th:only-of-type {\n",
       "        vertical-align: middle;\n",
       "    }\n",
       "\n",
       "    .dataframe tbody tr th {\n",
       "        vertical-align: top;\n",
       "    }\n",
       "\n",
       "    .dataframe thead th {\n",
       "        text-align: right;\n",
       "    }\n",
       "</style>\n",
       "<table border=\"1\" class=\"dataframe\">\n",
       "  <thead>\n",
       "    <tr style=\"text-align: right;\">\n",
       "      <th></th>\n",
       "      <th>Order ID</th>\n",
       "      <th>Product ID</th>\n",
       "      <th>Product Category</th>\n",
       "      <th>Quantity</th>\n",
       "      <th>Unit Price</th>\n",
       "      <th>Total Price</th>\n",
       "      <th>Order Date</th>\n",
       "      <th>Customer ID</th>\n",
       "      <th>Payment Type</th>\n",
       "      <th>Order Status</th>\n",
       "      <th>Order Month</th>\n",
       "    </tr>\n",
       "  </thead>\n",
       "  <tbody>\n",
       "    <tr>\n",
       "      <th>0</th>\n",
       "      <td>873ff350-854d-4bd8-aebf-6cc5e1a6d3b7</td>\n",
       "      <td>26ab320e-62f2-4203-be68-f8740085d796</td>\n",
       "      <td>1</td>\n",
       "      <td>4</td>\n",
       "      <td>154.050509</td>\n",
       "      <td>616.202036</td>\n",
       "      <td>2</td>\n",
       "      <td>292fe8cf-4d60-437b-8488-4c225e84d48d</td>\n",
       "      <td>1</td>\n",
       "      <td>1</td>\n",
       "      <td>8</td>\n",
       "    </tr>\n",
       "    <tr>\n",
       "      <th>1</th>\n",
       "      <td>7cb2641e-ea6b-4faf-a7ab-24992d5573fa</td>\n",
       "      <td>8c0d7ba9-1e6b-412a-8359-97d964ad19e5</td>\n",
       "      <td>2</td>\n",
       "      <td>5</td>\n",
       "      <td>275.539908</td>\n",
       "      <td>1377.699538</td>\n",
       "      <td>3</td>\n",
       "      <td>a026178d-e3ed-4d45-a49c-8336479b2114</td>\n",
       "      <td>2</td>\n",
       "      <td>2</td>\n",
       "      <td>9</td>\n",
       "    </tr>\n",
       "    <tr>\n",
       "      <th>2</th>\n",
       "      <td>94e0de8a-419d-46e1-9e7c-65c730b89c65</td>\n",
       "      <td>5d65b6c7-1894-4207-b7e3-b53cc2d5e5e3</td>\n",
       "      <td>3</td>\n",
       "      <td>3</td>\n",
       "      <td>56.410098</td>\n",
       "      <td>169.230294</td>\n",
       "      <td>6</td>\n",
       "      <td>808e8010-1552-42dd-a9c5-eacd4fde3283</td>\n",
       "      <td>3</td>\n",
       "      <td>3</td>\n",
       "      <td>12</td>\n",
       "    </tr>\n",
       "    <tr>\n",
       "      <th>3</th>\n",
       "      <td>88cc8ccf-f018-46ac-ba3b-f36b5cf4e429</td>\n",
       "      <td>b3f6c6a5-d3cb-49a4-b53b-3996be815c28</td>\n",
       "      <td>4</td>\n",
       "      <td>2</td>\n",
       "      <td>176.410906</td>\n",
       "      <td>352.821812</td>\n",
       "      <td>22</td>\n",
       "      <td>6184896b-4fb2-4ae0-9851-65033dae1319</td>\n",
       "      <td>2</td>\n",
       "      <td>4</td>\n",
       "      <td>7</td>\n",
       "    </tr>\n",
       "    <tr>\n",
       "      <th>4</th>\n",
       "      <td>eb520575-720e-456e-9dc5-c2c3bb887bfc</td>\n",
       "      <td>fed52dbf-49c6-4128-8b18-c36e50184a04</td>\n",
       "      <td>5</td>\n",
       "      <td>3</td>\n",
       "      <td>409.892144</td>\n",
       "      <td>1229.676431</td>\n",
       "      <td>8</td>\n",
       "      <td>24689017-68fc-42ba-8ae6-f0ad7155e0d6</td>\n",
       "      <td>1</td>\n",
       "      <td>3</td>\n",
       "      <td>4</td>\n",
       "    </tr>\n",
       "  </tbody>\n",
       "</table>\n",
       "</div>"
      ],
      "text/plain": [
       "                               Order ID                            Product ID  \\\n",
       "0  873ff350-854d-4bd8-aebf-6cc5e1a6d3b7  26ab320e-62f2-4203-be68-f8740085d796   \n",
       "1  7cb2641e-ea6b-4faf-a7ab-24992d5573fa  8c0d7ba9-1e6b-412a-8359-97d964ad19e5   \n",
       "2  94e0de8a-419d-46e1-9e7c-65c730b89c65  5d65b6c7-1894-4207-b7e3-b53cc2d5e5e3   \n",
       "3  88cc8ccf-f018-46ac-ba3b-f36b5cf4e429  b3f6c6a5-d3cb-49a4-b53b-3996be815c28   \n",
       "4  eb520575-720e-456e-9dc5-c2c3bb887bfc  fed52dbf-49c6-4128-8b18-c36e50184a04   \n",
       "\n",
       "   Product Category  Quantity  Unit Price  Total Price  Order Date  \\\n",
       "0                 1         4  154.050509   616.202036           2   \n",
       "1                 2         5  275.539908  1377.699538           3   \n",
       "2                 3         3   56.410098   169.230294           6   \n",
       "3                 4         2  176.410906   352.821812          22   \n",
       "4                 5         3  409.892144  1229.676431           8   \n",
       "\n",
       "                            Customer ID  Payment Type  Order Status  \\\n",
       "0  292fe8cf-4d60-437b-8488-4c225e84d48d             1             1   \n",
       "1  a026178d-e3ed-4d45-a49c-8336479b2114             2             2   \n",
       "2  808e8010-1552-42dd-a9c5-eacd4fde3283             3             3   \n",
       "3  6184896b-4fb2-4ae0-9851-65033dae1319             2             4   \n",
       "4  24689017-68fc-42ba-8ae6-f0ad7155e0d6             1             3   \n",
       "\n",
       "   Order Month  \n",
       "0            8  \n",
       "1            9  \n",
       "2           12  \n",
       "3            7  \n",
       "4            4  "
      ]
     },
     "execution_count": 13,
     "metadata": {},
     "output_type": "execute_result"
    }
   ],
   "source": [
    "df.head()"
   ]
  },
  {
   "cell_type": "code",
   "execution_count": null,
   "id": "38745ea0",
   "metadata": {
    "papermill": {
     "duration": 0.007355,
     "end_time": "2024-02-12T17:37:47.067145",
     "exception": false,
     "start_time": "2024-02-12T17:37:47.059790",
     "status": "completed"
    },
    "tags": []
   },
   "outputs": [],
   "source": []
  }
 ],
 "metadata": {
  "kaggle": {
   "accelerator": "none",
   "dataSources": [
    {
     "datasetId": 4374845,
     "sourceId": 7511383,
     "sourceType": "datasetVersion"
    }
   ],
   "dockerImageVersionId": 30646,
   "isGpuEnabled": false,
   "isInternetEnabled": true,
   "language": "python",
   "sourceType": "notebook"
  },
  "kernelspec": {
   "display_name": "Python 3",
   "language": "python",
   "name": "python3"
  },
  "language_info": {
   "codemirror_mode": {
    "name": "ipython",
    "version": 3
   },
   "file_extension": ".py",
   "mimetype": "text/x-python",
   "name": "python",
   "nbconvert_exporter": "python",
   "pygments_lexer": "ipython3",
   "version": "3.10.13"
  },
  "papermill": {
   "default_parameters": {},
   "duration": 5.130609,
   "end_time": "2024-02-12T17:37:47.596199",
   "environment_variables": {},
   "exception": null,
   "input_path": "__notebook__.ipynb",
   "output_path": "__notebook__.ipynb",
   "parameters": {},
   "start_time": "2024-02-12T17:37:42.465590",
   "version": "2.5.0"
  }
 },
 "nbformat": 4,
 "nbformat_minor": 5
}
